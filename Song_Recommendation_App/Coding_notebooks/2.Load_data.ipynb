{
 "cells": [
  {
   "cell_type": "markdown",
   "id": "2beec631-253e-472c-830f-f97f115e21d7",
   "metadata": {},
   "source": [
    "# Section 2 : Load Data To Weaviate Database\n",
    "- In this section you'll see:\n",
    "    - Set up Weaviate, including python client, weaviate instance, connection to WCS;\n",
    "    - Populate the database, including create collection, import data"
   ]
  },
  {
   "cell_type": "code",
   "execution_count": 1,
   "id": "96f1258c-a89e-4b46-b091-cd99d5885d32",
   "metadata": {},
   "outputs": [],
   "source": [
    "# Import libraries\n",
    "import weaviate\n",
    "import os\n",
    "import weaviate.classes.config as wc\n",
    "from weaviate.util import generate_uuid5\n",
    "\n",
    "import pandas as pd\n",
    "import requests\n",
    "from tqdm import tqdm"
   ]
  },
  {
   "cell_type": "code",
   "execution_count": 2,
   "id": "0746e8d2-c506-4bb2-a945-0ae1ea253f89",
   "metadata": {},
   "outputs": [],
   "source": [
    "# Create credentials\n",
    "os.environ['WCS_URL'] = \"enter_credentials\"\n",
    "os.environ['WCS_API_KEY'] = \"enter_credentials\"\n",
    "os.environ['OPENAI_APIKEY'] = \"enter_credentials\""
   ]
  },
  {
   "cell_type": "markdown",
   "id": "2bf90944-9d70-46cc-9a67-310afc4d7ad9",
   "metadata": {},
   "source": [
    "### Create the 'Tracks' collection"
   ]
  },
  {
   "cell_type": "code",
   "execution_count": 3,
   "id": "957bf469-5aa1-4514-bfdc-c8c26d5da0d9",
   "metadata": {},
   "outputs": [],
   "source": [
    "# Instantiate Weaviate client\n",
    "headers = {\n",
    "    \"X-OpenAI-Api-Key\": os.environ['OPENAI_APIKEY']}  # Replace with your OpenAI API key\n",
    "\n",
    "client = weaviate.connect_to_wcs(\n",
    "    cluster_url=os.environ['WCS_URL'],  # Replace with your WCS URL\n",
    "    auth_credentials=weaviate.auth.AuthApiKey(\n",
    "        os.environ['WCS_API_KEY']\n",
    "    ),  # Replace with your WCS key\n",
    "    headers=headers,\n",
    ")\n",
    "\n",
    "try:\n",
    "    client.collections.delete(\"Tracks\")  # Replace with your class name\n",
    "\n",
    "    client.collections.create(\n",
    "    name=\"Tracks\",\n",
    "    properties=[\n",
    "        wc.Property(name=\"track_uri\", data_type=wc.DataType.TEXT),\n",
    "        wc.Property(name=\"track_href\", data_type=wc.DataType.TEXT),\n",
    "        wc.Property(name=\"analysis_url\", data_type=wc.DataType.TEXT),\n",
    "        \n",
    "    ],\n",
    "    # Define the vectorizer module (none, as we will add our own vectors)\n",
    "    vectorizer_config=wc.Configure.Vectorizer.none(),\n",
    "    # Define the generative module\n",
    "    generative_config=wc.Configure.Generative.openai()\n",
    "    )\n",
    "finally:  # This will always be executed, even if an exception is raised\n",
    "    client.close()  # Close the connection & release resources"
   ]
  },
  {
   "cell_type": "markdown",
   "id": "bff10648-ea12-4328-872d-f0ab3ecbc7e3",
   "metadata": {},
   "source": [
    "### Import data (ps.think twice before running this cell because it'll take a long time)"
   ]
  },
  {
   "cell_type": "code",
   "execution_count": 5,
   "id": "502e3781-0b52-4646-af91-8c851cc8485f",
   "metadata": {},
   "outputs": [
    {
     "name": "stderr",
     "output_type": "stream",
     "text": [
      "/Users/jiajialiu/anaconda3/lib/python3.11/site-packages/weaviate/warnings.py:243: UserWarning: Bat003: The dynamic batch-size could not be refreshed successfully: error UnexpectedStatusCodeError('Nodes status! Unexpected status code: 502, with response body: None.')\n",
      "  warnings.warn(\n",
      "/Users/jiajialiu/anaconda3/lib/python3.11/site-packages/weaviate/warnings.py:243: UserWarning: Bat003: The dynamic batch-size could not be refreshed successfully: error ZeroDivisionError('division by zero')\n",
      "  warnings.warn(\n"
     ]
    },
    {
     "name": "stdout",
     "output_type": "stream",
     "text": [
      "Failed to import 22690 objects\n"
     ]
    }
   ],
   "source": [
    "# Instantiate your client (not shown). e.g.:\n",
    "headers = {\n",
    "    \"X-OpenAI-Api-Key\": os.environ['OPENAI_APIKEY']\n",
    "}  # Replace with your OpenAI API key\n",
    "\n",
    "client = weaviate.connect_to_wcs(\n",
    "    cluster_url=os.environ['WCS_URL'],  # Replace with your WCS URL\n",
    "    auth_credentials=weaviate.auth.AuthApiKey(\n",
    "        os.environ['WCS_API_KEY']\n",
    "    ),  # Replace with your WCS key\n",
    "    headers=headers,\n",
    ")\n",
    "\n",
    "try:\n",
    "    data_url = \"vec_tracks.csv\"\n",
    "    # data_resp = requests.get(data_url)\n",
    "    df = pd.read_csv(data_url)\n",
    "    \n",
    "    # Load the embeddings (embeddings from the previous step)\n",
    "    embs_path = \"scaled_vec_tracks.csv\"\n",
    "    # Or load embeddings from a local file (if you generated them earlier)    \n",
    "    emb_df = pd.read_csv(embs_path)\n",
    "    \n",
    "    # Get the collection\n",
    "    tracks = client.collections.get(\"Tracks\")\n",
    "    \n",
    "    # Enter context manager\n",
    "    with tracks.batch.dynamic() as batch:\n",
    "        # Loop through the data\n",
    "        for i, track in enumerate(df.itertuples(index=False)):\n",
    "   \n",
    "            # Build the object payload\n",
    "            track_obj = {\n",
    "                \"track_uri\": track.track_uri,\n",
    "                \"track_href\": track.track_href,\n",
    "                \"analysis_url\": track.analysis_url,\n",
    "            }\n",
    "    \n",
    "            # Get the vector\n",
    "            vector = emb_df.iloc[i,1:].to_list()\n",
    "    \n",
    "            # Add object (including vector) to batch queue\n",
    "            batch.add_object(\n",
    "                properties=track_obj,\n",
    "                uuid=generate_uuid5(track.id),\n",
    "                vector=vector  # Add the custom vector\n",
    "                # references=reference_obj  # You can add references here\n",
    "            )\n",
    "            # Batcher automatically sends batches\n",
    "    \n",
    "    # Check for failed objects\n",
    "    if len(tracks.batch.failed_objects) > 0:\n",
    "        print(f\"Failed to import {len(tracks.batch.failed_objects)} objects\")\n",
    "finally:  \n",
    "    client.close()"
   ]
  }
 ],
 "metadata": {
  "kernelspec": {
   "display_name": "Python 3 (ipykernel)",
   "language": "python",
   "name": "python3"
  },
  "language_info": {
   "codemirror_mode": {
    "name": "ipython",
    "version": 3
   },
   "file_extension": ".py",
   "mimetype": "text/x-python",
   "name": "python",
   "nbconvert_exporter": "python",
   "pygments_lexer": "ipython3",
   "version": "3.11.4"
  }
 },
 "nbformat": 4,
 "nbformat_minor": 5
}
